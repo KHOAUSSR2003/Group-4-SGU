{
  "cells": [
    {
      "cell_type": "markdown",
      "metadata": {
        "id": "bX3JGdwBCusC"
      },
      "source": [
        "# Tìm kiếm: Giải quyết mê cung bằng cách sử dụng tác nhân dựa trên mục tiêu.\n",
        "Họ tên sinh viên: Trần Văn Hiếu, Hồ Ngọc Đăng Khoa\n",
        "\n",
        "Các công cụ AI được dùng: Grok, GPT Generate\n",
        "\n",
        "Ký hiệu bài làm: Hiếu, Khoa"
      ]
    },
    {
      "cell_type": "markdown",
      "metadata": {
        "id": "sqHCQVrJCusz"
      },
      "source": [
        "## Kết quả Học tập\n",
        "\n",
        "* Xây dựng các bài toán tìm kiếm bằng cách sử dụng các thành phần chính như trạng thái ban đầu, hành động và trạng thái mục tiêu trong một môi trường xác định, hoàn toàn có thể quan sát được.\n",
        "* Triển khai và so sánh các thuật toán tìm kiếm bao gồm BFS, DFS, GBFS, A* và IDS để tìm đường trong mê cung.\n",
        "* Phân tích hiệu suất của thuật toán bằng cách đo chi phí đường đi, số lần mở nút, độ sâu và mức sử dụng bộ nhớ trên các loại mê cung khác nhau.\n",
        "* Sử dụng các công cụ trực quan hóa để đại diện cho các đường đi trong mê cung và hỗ trợ gỡ lỗi và phân tích."
      ]
    },
    {
      "cell_type": "markdown",
      "metadata": {
        "id": "Xmu16EDpCus3"
      },
      "source": [
        "## Hướng dẫn\n",
        "\n",
        "Tổng điểm: Sinh viên đại học 100 + 5 điểm thưởng / Sinh viên sau đại học 110\n",
        "\n",
        "Hoàn thành sổ tay này. Sử dụng các ô sổ tay đã cung cấp và chèn thêm các ô mã và ô markdown khi cần. Nộp tệp sổ tay và sổ tay đã được hiển thị hoàn toàn với tất cả các đầu ra dưới dạng tệp HTML.\n",
        "\n",
        "\n",
        "## Giới thiệu\n",
        "\n",
        "Đại lý phải sử dụng bản đồ được cung cấp để lập kế hoạch một lộ trình qua mê cung từ vị trí bắt đầu $S$ đến vị trí mục tiêu $G$. Đây là một bài tập lập kế hoạch cho một đại lý dựa trên mục tiêu, vì vậy bạn không cần phải triển khai một môi trường, chỉ cần sử dụng bản đồ để tìm kiếm một lộ trình. Khi kế hoạch đã được lập, tác nhân trong môi trường xác định (tức là, hàm chuyển tiếp là xác định với kết quả của mỗi cặp trạng thái/hành động được cố định và không có sự ngẫu nhiên) chỉ cần theo con đường và không cần phải quan tâm đến các cảm nhận.\n",
        "Đây cũng được gọi là một **[hệ thống vòng hở](https://en.wikipedia.org/wiki/Open-loop_controller).**\n",
        "Giai đoạn thực thi là không quan trọng và có thể được thực hiện bằng cách sử dụng một tác nhân phản xạ dựa trên mô hình mà bỏ qua tất cả các cảm nhận và chỉ theo kế hoạch. Chúng tôi không thực hiện điều này trong bài tập này.\n",
        "\n",
        "Với việc đại lý có một bản đồ đầy đủ và chính xác, môi trường là **hoàn toàn có thể quan sát, rời rạc, xác định và đã biết.**\n",
        "Nhớ:\n",
        "\n",
        "* **Hoàn toàn có thể quan sát** có nghĩa là tác nhân có thể thấy trạng thái của nó và những hành động có sẵn. Điều đó có nghĩa là **các cảm nhận chứa trạng thái hiện tại đầy đủ.**\n",
        "Ở đây, trong quá trình lập kế hoạch, tác nhân luôn thấy tọa độ x và y của nó trên bản đồ và cũng tìm kiếm khi nó đã đạt được trạng thái mục tiêu.\n",
        "* **Rời rạc** có nghĩa là chúng ta có một **tập hợp hữu hạn các trạng thái.** Mê cung có một tập hợp hữu hạn các ô mà tác nhân có thể ở trong đó.\n",
        "**Xác định** có nghĩa là **hàm chuyển tiếp không chứa sự ngẫu nhiên.** Một hành động trong một trạng thái luôn tạo ra cùng một kết quả. Đi về phía nam từ trạng thái bắt đầu sẽ luôn dẫn đến cùng một ô.\n",
        "* **Biết** có nghĩa là tác nhân **biết hàm chuyển tiếp hoàn chỉnh.** Tác nhân có bản đồ và do đó biết cách vị trí của nó thay đổi khi nó đi bộ theo một hướng.\n",
        "\n",
        "Các triển khai thuật toán tìm kiếm cây mà bạn tìm thấy trên mạng thường đến từ các khóa học về cấu trúc dữ liệu và có mục đích khác với tìm kiếm cây trong trí tuệ nhân tạo. Các thuật toán này giả định rằng bạn đã có một cây trong bộ nhớ. Chúng tôi quan tâm đến việc tạo ra một cây tìm kiếm một cách động với mục tiêu tìm ra một con đường tốt/ tốt nhất từ nút gốc đến trạng thái mục tiêu. Theo mã giả được trình bày trong sách giáo khoa (và được sao chép trong các slide) một cách chặt chẽ. Lý tưởng nhất, chúng ta muốn chỉ tìm kiếm một phần nhỏ của mê cung, tức là tạo ra một cây tìm kiếm với càng ít nút càng tốt.\n",
        "\n",
        "Một số mê cung cho bài tập này được lưu trữ dưới dạng tệp văn bản. Dưới đây là một ví dụ mê cung nhỏ:"
      ]
    },
    {
      "cell_type": "code",
      "execution_count": 1,
      "metadata": {
        "colab": {
          "base_uri": "https://localhost:8080/"
        },
        "id": "0QJSb-E8Cus_",
        "outputId": "9c4f7367-7d54-4350-835b-9ba8334d8324"
      },
      "outputs": [
        {
          "name": "stdout",
          "output_type": "stream",
          "text": [
            "XXXXXXXXXXXXXXXXXXXXXX\n",
            "X XX        X X      X\n",
            "X    XXXXXX X XXXXXX X\n",
            "XXXXXX     S  X      X\n",
            "X    X XXXXXX XX XXXXX\n",
            "X XXXX X         X   X\n",
            "X        XXX XXX   X X\n",
            "XXXXXXXXXX    XXXXXX X\n",
            "XG         XX        X\n",
            "XXXXXXXXXXXXXXXXXXXXXX\n",
            "\n"
          ]
        }
      ],
      "source": [
        "with open(\"small_maze.txt\", \"r\") as f:\n",
        "    maze_str = f.read()\n",
        "print(maze_str)"
      ]
    },
    {
      "cell_type": "markdown",
      "metadata": {
        "id": "gPIXmrkaCutK"
      },
      "source": [
        "**Lưu ý:** Nếu bạn nhận được lỗi ở đây rằng không thể tìm thấy tệp, thì bạn cần tải xuống. Xem [Cách làm việc trên các bài tập.](https://github.com/mhahsler/CS7320-AI/blob/master/HOWTOs/working_on_assignments.md)"
      ]
    },
    {
      "cell_type": "markdown",
      "metadata": {
        "id": "3rbfXZU3CutQ"
      },
      "source": [
        "## Phân tích và in đẹp mê cung\n",
        "\n",
        "Mê cung cũng có thể được hiển thị bằng màu sắc sử dụng mã trong mô-đun [maze_helper.py](maze_helper.py). Mã này phân tích chuỗi đại diện cho mê cung và chuyển đổi nó thành một mảng 2 chiều `numpy` mà bạn có thể sử dụng trong việc triển khai của mình. Vị trí được đại diện dưới dạng một cặp 2 phần của dạng `(hàng, cột)`."
      ]
    },
    {
      "cell_type": "code",
      "execution_count": 2,
      "metadata": {
        "colab": {
          "base_uri": "https://localhost:8080/",
          "height": 397
        },
        "id": "QaDDLfvsCutT",
        "outputId": "ecdc0db1-1cca-4515-990c-662eed25b0c5",
        "tags": []
      },
      "outputs": [
        {
          "name": "stdout",
          "output_type": "stream",
          "text": [
            "Position(0,0): X\n",
            "Position(8,1): G\n"
          ]
        }
      ],
      "source": [
        "import maze_helper as mh\n",
        "\n",
        "maze = mh.parse_maze(maze_str)\n",
        "\n",
        "# look at a position in the maze by subsetting the 2d array\n",
        "print(\"Position(0,0):\", maze[0, 0])\n",
        "\n",
        "# there is also a helper function called `look(maze, pos)` available\n",
        "# which uses a 2-tuple for the position.\n",
        "print(\"Position(8,1):\", mh.look(maze, (8, 1)))"
      ]
    },
    {
      "cell_type": "markdown",
      "metadata": {
        "id": "pNnLrVGOCutW"
      },
      "source": [
        "Một hàm trợ giúp để trực quan hóa mê cung cũng có sẵn."
      ]
    },
    {
      "cell_type": "code",
      "execution_count": 3,
      "metadata": {
        "id": "neFdLpprCutZ",
        "outputId": "3eb02864-8e32-4d4c-c18e-7b5ef0e0e84e"
      },
      "outputs": [
        {
          "data": {
            "image/png": "[encoded data removed]",
            "text/plain": [
              "<Figure size 640x480 with 1 Axes>"
            ]
          },
          "metadata": {
            "image/png": {
              "height": 269,
              "width": 534
            }
          },
          "output_type": "display_data"
        }
      ],
      "source": [
        "%matplotlib inline\n",
        "%config InlineBackend.figure_format = 'retina'\n",
        "# use higher resolution images in notebooks\n",
        "\n",
        "mh.show_maze(maze)"
      ]
    },
    {
      "cell_type": "markdown",
      "metadata": {
        "id": "DajjINsACutb"
      },
      "source": [
        "Tìm vị trí `(x,y)` của điểm bắt đầu và điểm kết thúc bằng cách sử dụng hàm trợ giúp `find_pos()`."
      ]
    },
    {
      "cell_type": "code",
      "execution_count": 4,
      "metadata": {
        "id": "tNFfF5gTCutg",
        "outputId": "61aec8d8-1872-4abe-9ab7-0b2557c33408"
      },
      "outputs": [
        {
          "name": "stdout",
          "output_type": "stream",
          "text": [
            "Start location: (3, 11)\n",
            "Goal location: (8, 1)\n"
          ]
        }
      ],
      "source": [
        "print(\"Start location:\", mh.find_pos(maze, what = \"S\"))\n",
        "print(\"Goal location:\", mh.find_pos(maze, what = \"G\"))"
      ]
    },
    {
      "cell_type": "markdown",
      "metadata": {
        "id": "AvGaDq14Cutj"
      },
      "source": [
        "Tài liệu chức năng trợ giúp."
      ]
    },
    {
      "cell_type": "code",
      "execution_count": 5,
      "metadata": {
        "id": "wneLMzeoCutl",
        "outputId": "b47f7645-eed9-4972-8f11-d13489ad10aa"
      },
      "outputs": [
        {
          "name": "stdout",
          "output_type": "stream",
          "text": [
            "Help on module maze_helper:\n",
            "\n",
            "NAME\n",
            "    maze_helper\n",
            "\n",
            "DESCRIPTION\n",
            "    Code for the Maze Assignment by Michael Hahsler\n",
            "    Usage:\n",
            "        import maze_helper as mh\n",
            "        mh.show_some_mazes()\n",
            "\n",
            "FUNCTIONS\n",
            "    animate_maze(result, repeat=False)\n",
            "        Build an animation from a list of mazes. Assumes that results has the elements:\n",
            "        path, reached, actions and maze_anim with a list of maze arrays.\n",
            "\n",
            "    find_pos(maze, what='S')\n",
            "        Find start/goal in a maze and returns the first one.\n",
            "        Caution: there is no error checking!\n",
            "\n",
            "        Parameters:\n",
            "        maze: a array with characters prodced by parse_maze()\n",
            "        what: the letter to be found ('S' for start and 'G' for goal)\n",
            "\n",
            "        Returns:\n",
            "        a tupple (x, y) for the found position.\n",
            "\n",
            "    look(maze, pos)\n",
            "        Look at the label of a square with the position as an array of the form (x, y).\n",
            "\n",
            "    maze_to_matrix(maze)\n",
            "        convert a maze a numeric numpy array for visualization via imshow.\n",
            "\n",
            "    parse_maze(maze_str)\n",
            "        Convert a maze as a string into a 2d numpy array\n",
            "\n",
            "    show_maze(maze, fontsize=10)\n",
            "        Display a (parsed) maze as an image.\n",
            "\n",
            "    welcome()\n",
            "        Welcome message.\n",
            "\n",
            "FILE\n",
            "    c:\\users\\hi\\documents\\ttntnc_25\\lab02_02_search\\maze_helper.py\n",
            "\n",
            "\n"
          ]
        }
      ],
      "source": [
        "help(mh)"
      ]
    },
    {
      "cell_type": "markdown",
      "metadata": {
        "id": "MuN9xW-nCutm"
      },
      "source": [
        "Bạn sẽ cần tạo một bản sao cục bộ của tệp module [maze_helper.py](maze_helper.py) trong cùng thư mục nơi có sổ tay của bạn."
      ]
    },
    {
      "cell_type": "markdown",
      "metadata": {
        "id": "8B0AdWfmCutn"
      },
      "source": [
        "## Cấu trúc cây\n",
        "\n",
        "Đây là một triển khai của cấu trúc nút cơ bản cho các thuật toán tìm kiếm (xem Hình 3.7 trên trang 73). Tôi đã thêm một phương pháp trích xuất đường đi từ nút gốc đến nút hiện tại. Nó có thể được sử dụng để lấy đường đi khi việc tìm kiếm hoàn tất."
      ]
    },
    {
      "cell_type": "code",
      "execution_count": 6,
      "metadata": {
        "id": "FSVaf4PQCuto"
      },
      "outputs": [],
      "source": [
        "class Node:\n",
        "    def __init__(self, pos, parent, action, cost):\n",
        "        self.pos = tuple(pos)    # the state; positions are (row,col)\n",
        "        self.parent = parent     # reference to parent node. None means root node.\n",
        "        self.action = action     # action used in the transition function (root node has None)\n",
        "        self.cost = cost         # for uniform cost this is the depth. It is also g(n) for A* search\n",
        "\n",
        "    def __str__(self):\n",
        "        return f\"Node - pos = {self.pos}; action = {self.action}; cost = {self.cost}\"\n",
        "\n",
        "    def get_path_from_root(self):\n",
        "        \"\"\"returns nodes on the path from the root to the current node.\"\"\"\n",
        "        node = self\n",
        "        path = [node]\n",
        "\n",
        "        while not node.parent is None:\n",
        "            node = node.parent\n",
        "            path.append(node)\n",
        "\n",
        "        path.reverse()\n",
        "\n",
        "        return(path)"
      ]
    },
    {
      "cell_type": "markdown",
      "metadata": {
        "id": "KDoSdVaFCutp"
      },
      "source": [
        "Nếu cần, bạn có thể thêm nhiều trường vào lớp như giá trị heuristic $h(n)$ hoặc $f(n)$.\n",
        "\n",
        "Các ví dụ về cách tạo và sử dụng cây cũng như thông tin về quản lý bộ nhớ có thể được tìm thấy [tại đây](../HOWTOs/trees.ipynb)."
      ]
    },
    {
      "cell_type": "markdown",
      "metadata": {
        "id": "IfA6fjbSCutq"
      },
      "source": [
        "# Nhiệm vụ\n",
        "\n",
        "Mục tiêu là:\n",
        "\n",
        "1. Triển khai các thuật toán tìm kiếm sau để giải quyết các mê cung khác nhau:\n",
        "\n",
        "    - Tìm kiếm theo chiều rộng (BFS)\n",
        "    - Tìm kiếm theo chiều sâu (DFS)\n",
        "    - Tìm kiếm tham lam tốt nhất trước (GBFS)\n",
        "    - Tìm kiếm A*\n",
        "\n",
        "2. Chạy từng thuật toán ở trên trên\n",
        "    - [labyrinth nhỏ](small_maze.txt),\n",
        "    - [labyrinth vừa](medium_maze.txt),\n",
        "    - [labyrinth lớn](large_maze.txt),\n",
        "    - [labyrinth mở](open_maze.txt),\n",
        "    - [labyrinth tường](wall_maze.txt),\n",
        "    - [labyrinth có vòng lặp](loops_maze.txt),\n",
        "    - [labyrinth trống](empty_maze.txt), và\n",
        "    - [labyrinth trống 2](empty_2_maze.txt).\n",
        "    \n",
        "3. Đối với mỗi trường hợp vấn đề và mỗi thuật toán tìm kiếm, báo cáo các thông tin sau trong một bảng:\n",
        "\n",
        "    - Giải pháp và chi phí đường đi của nó\n",
        "    - Tổng số nút đã mở rộng\n",
        "    - Độ sâu tối đa của cây\n",
        "    - Kích thước tối đa của biên giới\n",
        "\n",
        "4. Hiển thị mỗi giải pháp bằng cách đánh dấu từng ô mê cung (hoặc trạng thái) đã được truy cập và các ô trên con đường cuối cùng.\n",
        "\n",
        "## Tổng quát [10 Điểm]\n",
        "\n",
        "1. Đảm bảo rằng bạn sử dụng phiên bản mới nhất của cuốn sổ này.\n",
        "2. Việc triển khai của bạn có thể sử dụng các thư viện như math, numpy, scipy, nhưng không sử dụng các thư viện triển khai các tác nhân thông minh hoặc thuật toán tìm kiếm hoàn chỉnh. Hãy cố gắng giữ cho mã đơn giản! Trong khóa học này, chúng ta muốn tìm hiểu về các thuật toán và thường không cần sử dụng thiết kế hướng đối tượng.\n",
        "3. Sổ tay của bạn cần được định dạng một cách chuyên nghiệp.  \n",
        "   - Thêm các khối markdown bổ sung cho mô tả của bạn, bình luận trong mã, thêm bảng và sử dụng mathplotlib để tạo biểu đồ khi cần thiết.  \n",
        "   - Không hiển thị đầu ra gỡ lỗi hoặc bao gồm một lượng đầu ra quá mức.  \n",
        "   - Kiểm tra rằng tệp bạn nộp có thể đọc được và chứa tất cả các hình.\n",
        "4. Ghi chú mã của bạn. Sử dụng các chú thích trong mã và thêm một cuộc thảo luận về cách triển khai của bạn hoạt động và các lựa chọn thiết kế của bạn."
      ]
    },
    {
      "cell_type": "markdown",
      "metadata": {
        "id": "v-v6CwwZCutr"
      },
      "source": [
        "## Nhiệm vụ 1 [Hiếu]: Định nghĩa vấn đề tìm kiếm và xác định kích thước vấn đề [10 Điểm]\n",
        "\n",
        "Định nghĩa các thành phần của vấn đề tìm kiếm:\n",
        "\n",
        "* Trạng thái ban đầu\n",
        "* Hành động\n",
        "* Mô hình chuyển tiếp\n",
        "* Trạng thái mục tiêu\n",
        "* Chi phí đường đi\n",
        "\n",
        "Sử dụng mô tả bằng lời, biến và phương trình khi thích hợp.\n",
        "\n",
        "*Lưu ý:* Bạn có thể chuyển khối tiếp theo từ mã sang Markdown và sử dụng định dạng."
      ]
    },
    {
      "cell_type": "markdown",
      "metadata": {
        "id": "is-5e5FbCutt"
      },
      "source": [
        "# Câu trả lời của bạn ở đây\n",
        "- **Trạng thái ban đầu**: Vị trí bắt đầu của người chơi trong mê cung, ví dụ: (x₀, y₀), trong đó (x₀, y₀) là tọa độ ban đầu trên lưới mê cung.\n",
        "- **Hành động**: Các hành động có thể thực hiện, bao gồm di chuyển lên (U), xuống (D), sang trái (L) hoặc sang phải (R), tùy thuộc vào quy tắc của mê cung (ví dụ: không di chuyển qua tường).\n",
        "- **Mô hình chuyển tiếp**: Mô hình chuyển tiếp xác định trạng thái tiếp theo dựa trên hành động hiện tại. Nếu ở trạng thái (x, y) và thực hiện hành động U, trạng thái mới là (x, y+1) nếu không có tường; tương tự cho D, L, R.\n",
        "- **Trạng thái mục tiêu**: Vị trí đích trong mê cung, ví dụ: (x_goal, y_goal), nơi người chơi cần đến để hoàn thành.\n",
        "- **Chi phí đường đi**: Chi phí đường đi là tổng số bước đã thực hiện, có thể được biểu diễn là c = Σ d(i, i+1), trong đó d(i, i+1) là khoảng cách giữa hai trạng thái liên tiếp (thường là 1 nếu trên một lưới)."
      ]
    },
    {
      "cell_type": "markdown",
      "metadata": {
        "id": "R0oBZeI0Cut0"
      },
      "source": [
        "Đưa ra một số ước lượng cho kích thước vấn đề:\n",
        "\n",
        "* $n$: kích thước không gian trạng thái\n",
        "* $d$: độ sâu của giải pháp tối ưu\n",
        "* $m$: độ sâu tối đa của cây\n",
        "* $b$: hệ số phân nhánh tối đa\n",
        "\n",
        "Mô tả cách bạn sẽ xác định các giá trị này cho một mê cung nhất định."
      ]
    },
    {
      "cell_type": "markdown",
      "metadata": {
        "id": "uGJ1GerOMreX"
      },
      "source": [
        "# Câu trả lời của bạn ở đây\n",
        "\n",
        "Để tìm cách đi trong mê cung với chi phí đường đi thấp nhất, ta có thể sử dụng thuật toán tìm kiếm như A* hoặc Dijkstra. Dựa trên các thành phần đã cho:\n",
        "\n",
        "- **n (kích thước không gian trạng thái)**: Số lượng ô trong mê cung, ví dụ m × n nếu mê cung là lưới với m hàng và n cột.\n",
        "- **d (độ sâu của giải pháp tối ưu)**: Số bước tối thiểu từ điểm bắt đầu đến điểm đích.\n",
        "- **m (độ sâu tối đa của cây)**: Số bước tối đa có thể thực hiện trước khi kết thúc tìm kiếm (thường bằng độ sâu của mê cung).\n",
        "- **b (hệ số phân nhánh tại mỗi nút)**: Số hướng di chuyển có thể (thường là 4: lên, xuống, trái, phải), trừ khi có tường.\n",
        "\n",
        "Thuật toán A* sử dụng hàm đánh giá f(n) = g(n) + h(n), trong đó:\n",
        "- g(n): chi phí từ nút bắt đầu đến nút n (số bước đã đi).\n",
        "- h(n): ước lượng chi phí từ n đến đích (thường là khoảng cách Manhattan: |x_goal - x| + |y_goal - y|).\n",
        "Ta chọn nút có f(n) nhỏ nhất để mở rộng, đảm bảo tìm ra đường đi ngắn nhất."
      ]
    },
    {
      "cell_type": "markdown",
      "metadata": {
        "id": "K4s_zscJCut2"
      },
      "source": [
        "## Nhiệm vụ 2 [Hiếu]: Tìm kiếm không thông tin: Tìm kiếm theo chiều rộng và tìm kiếm theo chiều sâu [40 Điểm]\n",
        "\n",
        "Thực hiện các chiến lược tìm kiếm này. Làm theo mã giả trong sách giáo khoa/tài liệu trình bày. Bạn có thể sử dụng cấu trúc cây được hiển thị ở trên để trích xuất đường đi cuối cùng từ giải pháp của bạn.\n",
        "\n",
        "Đọc kỹ các **ghi chú quan trọng** sau đây:\n",
        "* Bạn có thể tìm thấy các triển khai giải mê cung trực tuyến sử dụng bản đồ để lưu trữ thông tin. Mặc dù đây là một ý tưởng hiệu quả cho vấn đề điều hướng hai chiều này, nhưng nó thường không thể được sử dụng cho các vấn đề tìm kiếm khác. Do đó, hãy theo sách giáo khoa và **không lưu trữ thông tin trong bản đồ.** Chỉ lưu trữ thông tin trong cây được tạo ra trong quá trình tìm kiếm, và sử dụng các cấu trúc dữ liệu `reached` và `frontier` khi thích hợp.\n",
        "Hành vi DSF có thể được thực hiện bằng cách sử dụng thuật toán tìm kiếm cây BFS và đơn giản là thay đổi thứ tự mà biên giới được mở rộng (điều này tương đương với tìm kiếm tốt nhất với độ dài đường đi là tiêu chí để mở rộng nút tiếp theo). Tuy nhiên, đây sẽ là một sai lầm lớn vì nó kết hợp độ phức tạp không gian kém của BFS với độ phức tạp thời gian kém của DFS! **Để tận dụng kích thước bộ nhớ nhỏ hơn đáng kể của DFS, bạn cần triển khai DFS theo một cách khác mà không sử dụng cấu trúc dữ liệu `reached` (thường cũng được gọi là `visited` hoặc `explored`) và bằng cách giải phóng bộ nhớ cho các nút không còn cần thiết nữa.**\n",
        "* Vì việc thực hiện đúng DFS không sử dụng cấu trúc dữ liệu `reached`, khả năng kiểm tra đường đi dư thừa bị giới hạn ở việc kiểm tra chu trình. Bạn cần thực hiện **kiểm tra chu trình vì DSF không hoàn chỉnh (sinh ra vòng lặp vô hạn) nếu không thể ngăn chặn các chu trình.** Bạn sẽ thấy trong các thí nghiệm của mình rằng việc kiểm tra chu trình trong không gian mở là một thách thức."
      ]
    },
    {
      "cell_type": "code",
      "execution_count": 7,
      "metadata": {
        "id": "LIJdR4pOCut3"
      },
      "outputs": [],
      "source": [
        "# Your code goes here\n",
        "from collections import deque\n",
        "\n",
        "class Node:\n",
        "    def __init__(self, pos, parent=None, action=None, cost=0):\n",
        "        self.pos = tuple(pos)      # vị trí của node trong maze (ví dụ: (row, col))\n",
        "        self.parent = parent       # tham chiếu đến node cha (dùng để truy ngược lại đường đi)\n",
        "        self.action = action       # hành động dẫn tới node này (ví dụ: \"U\", \"D\", \"L\", \"R\")\n",
        "        self.cost = cost           # chi phí (thường là depth, hoặc g(n) trong A*)\n",
        "\n",
        "    def path(self):\n",
        "        node, p = self, []         # bắt đầu từ node hiện tại\n",
        "        while node:                # đi ngược lại qua các parent cho đến khi None\n",
        "            p.append(node.pos)     # lưu lại vị trí hiện tại\n",
        "            node = node.parent     # đi về node cha\n",
        "        return list(reversed(p))   # vì đi ngược, nên cần đảo ngược để được path từ Start -> Goal"
      ]
    },
    {
      "cell_type": "code",
      "execution_count": 8,
      "metadata": {},
      "outputs": [],
      "source": [
        "# ---------------- Maze loader ----------------\n",
        "def load_maze(filename=\"small_maze.txt\"):\n",
        "    with open(filename, \"r\") as f:\n",
        "        maze_str = f.read()\n",
        "    maze = mh.parse_maze(maze_str)\n",
        "    start = mh.find_pos(maze, \"S\")\n",
        "    goal = mh.find_pos(maze, \"G\")\n",
        "    return maze, start, goal"
      ]
    },
    {
      "cell_type": "code",
      "execution_count": 9,
      "metadata": {},
      "outputs": [],
      "source": [
        "# Neighbors function\n",
        "def neighbors_fn(pos, maze):\n",
        "    r, c = pos\n",
        "    moves = [(\"R\",(0,1)), (\"D\",(1,0)), (\"L\",(0,-1)), (\"U\",(-1,0))]\n",
        "    for act, (dr, dc) in moves:\n",
        "        nr, nc = r+dr, c+dc\n",
        "        if 0 <= nr < maze.shape[0] and 0 <= nc < maze.shape[1]:\n",
        "            if maze[nr, nc] != \"X\":  # không phải tường\n",
        "                yield act, (nr, nc)"
      ]
    },
    {
      "cell_type": "code",
      "execution_count": 16,
      "metadata": {},
      "outputs": [],
      "source": [
        "# ---------------- BFS ----------------\n",
        "def breadth_first_search(start, goal, maze):\n",
        "    frontier = deque([Node(start)])\n",
        "    reached = {start}\n",
        "    reached_order = []\n",
        "\n",
        "    while frontier:\n",
        "        node = frontier.popleft()\n",
        "        reached_order.append(node.pos)\n",
        "\n",
        "        if node.pos == goal:\n",
        "            return node.path(), reached_order\n",
        "\n",
        "        for action, nxt in neighbors_fn(node.pos, maze):\n",
        "            if nxt not in reached:\n",
        "                reached.add(nxt)\n",
        "                frontier.append(Node(nxt, node, action, node.cost+1))\n",
        "    return None, reached_order\n",
        "\n",
        "# ---------------- DFS ----------------\n",
        "def depth_first_search(start, goal, maze):\n",
        "    stack = [Node(start)]\n",
        "    reached_order = []\n",
        "\n",
        "    while stack:\n",
        "        node = stack.pop()\n",
        "        reached_order.append(node.pos)\n",
        "\n",
        "        if node.pos == goal:\n",
        "            return node.path(), reached_order\n",
        "\n",
        "        # cycle checking theo path hiện tại\n",
        "        path_set = set(node.path())\n",
        "        for action, nxt in neighbors_fn(node.pos, maze):\n",
        "            if nxt not in path_set:\n",
        "                stack.append(Node(nxt, node, action, node.cost+1))\n",
        "    return None, reached_order"
      ]
    },
    {
      "cell_type": "code",
      "execution_count": 17,
      "metadata": {},
      "outputs": [],
      "source": [
        "# ---------------- Maze for visualization ----------------\n",
        "def mark_path(maze, path):\n",
        "    maze_copy = maze.copy()\n",
        "    for (r, c) in path[1:-1]:  # bỏ start và goal\n",
        "        maze_copy[r, c] = \"P\"\n",
        "    return maze_copy"
      ]
    },
    {
      "cell_type": "code",
      "execution_count": 18,
      "metadata": {},
      "outputs": [
        {
          "data": {
            "image/png": "[encoded data removed]",
            "text/plain": [
              "<Figure size 640x480 with 1 Axes>"
            ]
          },
          "metadata": {
            "image/png": {
              "height": 269,
              "width": 534
            }
          },
          "output_type": "display_data"
        }
      ],
      "source": [
        "maze, start, goal = load_maze(\"../lab02_02_search/small_maze.txt\")\n",
        "mh.show_maze(maze)"
      ]
    },
    {
      "cell_type": "code",
      "execution_count": 19,
      "metadata": {},
      "outputs": [
        {
          "name": "stdout",
          "output_type": "stream",
          "text": [
            "\n",
            "--- BFS ---\n",
            "Path length: 19\n",
            "Reached nodes: 93\n",
            "Path: [(3, 11), (3, 12), (3, 13), (4, 13), (5, 13), (5, 12), (6, 12), (7, 12), (7, 11), (7, 10), (8, 10), (8, 9), (8, 8), (8, 7), (8, 6), (8, 5), (8, 4), (8, 3), (8, 2), (8, 1)]\n"
          ]
        },
        {
          "data": {
            "image/png": "[encoded data removed]",
            "text/plain": [
              "<Figure size 640x480 with 1 Axes>"
            ]
          },
          "metadata": {
            "image/png": {
              "height": 269,
              "width": 534
            }
          },
          "output_type": "display_data"
        }
      ],
      "source": [
        "# BFS\n",
        "bfs_path, bfs_reached = breadth_first_search(start, goal, maze)\n",
        "print(\"\\n--- BFS ---\")\n",
        "print(f\"Path length: {len(bfs_path)-1}\")\n",
        "print(f\"Reached nodes: {len(bfs_reached)}\")\n",
        "print(f\"Path: {bfs_path}\")\n",
        "mh.show_maze(mark_path(maze, bfs_path))"
      ]
    },
    {
      "cell_type": "code",
      "execution_count": 20,
      "metadata": {},
      "outputs": [
        {
          "name": "stdout",
          "output_type": "stream",
          "text": [
            "\n",
            "--- DFS ---\n",
            "Path length: 29\n",
            "Reached nodes: 54\n",
            "Path: [(3, 11), (3, 10), (3, 9), (3, 8), (3, 7), (3, 6), (4, 6), (5, 6), (6, 6), (6, 7), (6, 8), (5, 8), (5, 9), (5, 10), (5, 11), (5, 12), (6, 12), (7, 12), (7, 11), (7, 10), (8, 10), (8, 9), (8, 8), (8, 7), (8, 6), (8, 5), (8, 4), (8, 3), (8, 2), (8, 1)]\n"
          ]
        },
        {
          "data": {
            "image/png": "[encoded data removed]",
            "text/plain": [
              "<Figure size 640x480 with 1 Axes>"
            ]
          },
          "metadata": {
            "image/png": {
              "height": 269,
              "width": 534
            }
          },
          "output_type": "display_data"
        }
      ],
      "source": [
        "# DFS\n",
        "dfs_path, dfs_reached = depth_first_search(start, goal, maze)\n",
        "print(\"\\n--- DFS ---\")\n",
        "print(f\"Path length: {len(dfs_path)-1}\")\n",
        "print(f\"Reached nodes: {len(dfs_reached)}\")\n",
        "print(f\"Path: {dfs_path}\")\n",
        "mh.show_maze(mark_path(maze, dfs_path))"
      ]
    },
    {
      "cell_type": "markdown",
      "metadata": {
        "id": "suz8mGtQCut4"
      },
      "source": [
        "BFS và DFS (không có cấu trúc dữ liệu reached) xử lý các vòng lặp (chu trình) như thế nào?"
      ]
    },
    {
      "cell_type": "markdown",
      "metadata": {
        "id": "uH4Q4t3qCut5"
      },
      "source": [
        "# Thảo luận\n",
        "Nếu không có cấu trúc dữ liệu reached/visited, cả BFS và DFS đều có thể rơi vào vòng lặp vô hạn khi đồ thị hoặc mê cung chứa chu trình.\n",
        "\n",
        "- BFS: Vì nó mở rộng các nút theo từng cấp độ, nếu có chu trình, cùng một nút sẽ được đưa vào hàng đợi nhiều lần, gây ra sự gia tăng theo cấp số nhân trong biên giới và có thể không bao giờ kết thúc.\n",
        "- DFS: DFS sẽ liên tục đi sâu vào cùng một chu trình mà không đánh dấu các nút đã thăm, điều này cũng có thể gây ra đệ quy vô hạn hoặc tràn ngăn xếp.\n",
        "- Do đó, để xử lý các vòng lặp một cách an toàn, cả hai thuật toán đều yêu cầu một tập hợp reached/visited để tránh việc quay lại các trạng thái giống nhau."
      ]
    },
    {
      "cell_type": "markdown",
      "metadata": {
        "id": "iPcGtnQ-Cut6"
      },
      "source": [
        "Các triển khai của bạn có hoàn chỉnh và tối ưu không? Giải thích tại sao. Độ phức tạp về thời gian và không gian của mỗi triển khai **của bạn** là gì? Đặc biệt thảo luận về sự khác biệt trong độ phức tạp không gian giữa BFS và DFS."
      ]
    },
    {
      "cell_type": "markdown",
      "metadata": {
        "id": "nnk2aI4SCut7"
      },
      "source": [
        "# Thảo luận\n",
        "- Tính đầy đủ:\n",
        "  + BFS là đầy đủ vì nếu một đường đi tồn tại, nó sẽ tìm ra nó. \n",
        "  + DFS không được đảm bảo là đầy đủ trong các đồ thị vô hạn hoặc có chu trình, nhưng trong một mê cung hữu hạn \n",
        "    với một tập hợp đã được thăm, nó sẽ tìm ra giải pháp nếu một giải pháp tồn tại. \n",
        "- Tính tối ưu:\n",
        "  + BFS là tối ưu trong các đồ thị không có trọng số vì nó luôn tìm ra đường đi ngắn nhất \n",
        "    (Chiều dài đường đi = 19). \n",
        "  + DFS không tối ưu, vì nó có thể trả về một đường đi dài hơn (Chiều dài đường đi = 29).\n",
        "- Độ phức tạp thời gian:\n",
        "  Cả BFS và DFS đều có độ phức tạp thời gian O(V + E), trong đó V là số lượng nút (ô) \n",
        "  và E là số lượng cạnh (các bước di chuyển có thể).\n",
        "- Độ phức tạp không gian:\n",
        "  + BFS yêu cầu O(V) không gian trong trường hợp xấu nhất vì nó giữ tất cả các nút ở biên giới \n",
        "  tại cấp độ hiện tại (do đó nó đã đạt được 93 nút).\n",
        "  + DFS chỉ yêu cầu không gian O(depth) cho đệ quy/stack, vì vậy trên thực tế nó sử dụng ít nút hơn (54 nút đã đạt được). \n",
        "- Đây là sự khác biệt chính: BFS đánh đổi không gian để đạt được tính tối ưu, \n",
        "  trong khi DFS sử dụng ít bộ nhớ hơn nhưng không tối ưu."
      ]
    },
    {
      "cell_type": "markdown",
      "metadata": {
        "id": "wmtnZSDSCut9"
      },
      "source": [
        "## Nhiệm vụ 3 [Hiếu]: Tìm kiếm có thông tin: Triển khai tìm kiếm tham lam tốt nhất và tìm kiếm A* [20 Điểm]\n",
        "\n",
        "Bạn có thể sử dụng bản đồ để ước lượng khoảng cách từ vị trí hiện tại của bạn đến mục tiêu bằng cách sử dụng khoảng cách Manhattan (xem https://en.wikipedia.org/wiki/Taxicab_geometry) như một hàm heuristic. Cả hai thuật toán đều dựa trên tìm kiếm Tốt Nhất, chỉ cần thay đổi nhỏ từ thuật toán BFS mà bạn đã triển khai (xem sách giáo khoa/bài trình bày)."
      ]
    },
    {
      "cell_type": "code",
      "execution_count": 21,
      "metadata": {
        "id": "jbHZ37naCuuA"
      },
      "outputs": [],
      "source": [
        "# Your code goes here\n",
        "import heapq\n",
        "import itertools\n",
        "# ---------------- Manhattan distance ----------------\n",
        "def manhattan(a, b):\n",
        "    return abs(a[0] - b[0]) + abs(a[1] - b[1])\n",
        "\n",
        "# Counter to break ties in heap\n",
        "counter = itertools.count()\n",
        "\n",
        "# ---------------- Greedy Best First Search ----------------\n",
        "def greedy_best_first_search(start, goal, maze):\n",
        "    frontier = []\n",
        "    heapq.heappush(frontier, (manhattan(start, goal), next(counter), Node(start)))\n",
        "    reached = set([start])\n",
        "\n",
        "    while frontier:\n",
        "        _, _, node = heapq.heappop(frontier)\n",
        "\n",
        "        if node.pos == goal:\n",
        "            return node.path(), len(reached)\n",
        "\n",
        "        for move, (dr, dc) in [(\"R\",(0,1)), (\"D\",(1,0)), (\"L\",(0,-1)), (\"U\",(-1,0))]:\n",
        "            r, c = node.pos[0] + dr, node.pos[1] + dc\n",
        "            if maze[r][c] != \"X\" and (r, c) not in reached:\n",
        "                reached.add((r, c))\n",
        "                child = Node((r, c), node, move, node.cost + 1)\n",
        "                heapq.heappush(frontier, (manhattan((r, c), goal), next(counter), child))\n",
        "\n",
        "    return None, len(reached)\n",
        "\n",
        "# ---------------- A* Search ----------------\n",
        "def astar_search(start, goal, maze):\n",
        "    frontier = []\n",
        "    heapq.heappush(frontier, (manhattan(start, goal), next(counter), Node(start)))\n",
        "    reached = {start: 0}\n",
        "\n",
        "    while frontier:\n",
        "        _, _, node = heapq.heappop(frontier)\n",
        "\n",
        "        if node.pos == goal:\n",
        "            return node.path(), len(reached)\n",
        "\n",
        "        for move, (dr, dc) in [(\"R\",(0,1)), (\"D\",(1,0)), (\"L\",(0,-1)), (\"U\",(-1,0))]:\n",
        "            r, c = node.pos[0] + dr, node.pos[1] + dc\n",
        "            if maze[r][c] != \"X\":\n",
        "                new_cost = node.cost + 1\n",
        "                if (r, c) not in reached or new_cost < reached[(r, c)]:\n",
        "                    reached[(r, c)] = new_cost\n",
        "                    child = Node((r, c), node, move, new_cost)\n",
        "                    f = new_cost + manhattan((r, c), goal)\n",
        "                    heapq.heappush(frontier, (f, next(counter), child))\n",
        "\n",
        "    return None, len(reached)"
      ]
    },
    {
      "cell_type": "code",
      "execution_count": 22,
      "metadata": {},
      "outputs": [
        {
          "name": "stdout",
          "output_type": "stream",
          "text": [
            "--- Greedy Best-First Search ---\n",
            "Path length: 29\n",
            "Reached nodes: 44\n",
            "Path: [(3, 11), (3, 10), (3, 9), (3, 8), (3, 7), (3, 6), (4, 6), (5, 6), (6, 6), (6, 7), (6, 8), (5, 8), (5, 9), (5, 10), (5, 11), (5, 12), (6, 12), (7, 12), (7, 11), (7, 10), (8, 10), (8, 9), (8, 8), (8, 7), (8, 6), (8, 5), (8, 4), (8, 3), (8, 2), (8, 1)]\n"
          ]
        },
        {
          "data": {
            "image/png": "[encoded data removed]",
            "text/plain": [
              "<Figure size 640x480 with 1 Axes>"
            ]
          },
          "metadata": {
            "image/png": {
              "height": 269,
              "width": 534
            }
          },
          "output_type": "display_data"
        }
      ],
      "source": [
        "# GVFS\n",
        "gbfs_path, gbfs_reached = greedy_best_first_search(start, goal, maze)\n",
        "print(\"--- Greedy Best-First Search ---\")\n",
        "print(\"Path length:\", len(gbfs_path)-1)\n",
        "print(\"Reached nodes:\", gbfs_reached)\n",
        "print(\"Path:\", gbfs_path)\n",
        "mh.show_maze(mark_path(maze, gbfs_path))"
      ]
    },
    {
      "cell_type": "code",
      "execution_count": 23,
      "metadata": {},
      "outputs": [
        {
          "name": "stdout",
          "output_type": "stream",
          "text": [
            "\n",
            "--- A* Search ---\n",
            "Path length: 19\n",
            "Reached nodes: 59\n",
            "Path: [(3, 11), (3, 12), (3, 13), (4, 13), (5, 13), (5, 12), (6, 12), (7, 12), (7, 11), (7, 10), (8, 10), (8, 9), (8, 8), (8, 7), (8, 6), (8, 5), (8, 4), (8, 3), (8, 2), (8, 1)]\n"
          ]
        },
        {
          "data": {
            "image/png": "[encoded data removed]",
            "text/plain": [
              "<Figure size 640x480 with 1 Axes>"
            ]
          },
          "metadata": {
            "image/png": {
              "height": 269,
              "width": 534
            }
          },
          "output_type": "display_data"
        }
      ],
      "source": [
        "# A* Search \n",
        "astar_path, astar_reached = astar_search(start, goal, maze)\n",
        "print(\"\\n--- A* Search ---\")\n",
        "print(\"Path length:\", len(astar_path)-1)\n",
        "print(\"Reached nodes:\", astar_reached)\n",
        "print(\"Path:\", astar_path)\n",
        "mh.show_maze(mark_path(maze, astar_path))"
      ]
    },
    {
      "cell_type": "markdown",
      "metadata": {
        "id": "8Glh3VOFCuuC"
      },
      "source": [
        "Các triển khai của bạn đã hoàn chỉnh và tối ưu chưa? Độ phức tạp về thời gian và không gian là gì?"
      ]
    },
    {
      "cell_type": "markdown",
      "metadata": {
        "id": "f7TgMmXbCuuD"
      },
      "source": [
        "# Thảo luận\n",
        "- Tìm kiếm tốt nhất tham lam (GBFS):\n",
        "    + Tính đầy đủ: GBFS không đầy đủ trong tổng quát. Nếu có vòng lặp hoặc ngõ cụt, nó có thể bị kẹt trong việc khám phá con đường sai mãi mãi.\n",
        "    + Tính tối ưu: GBFS không tối ưu. Nó chọn nút có vẻ gần nhất với mục tiêu theo cách tiếp cận, nhưng điều này có thể không phải là con đường ngắn nhất thực sự.\n",
        "    + Từ đầu ra, GBFS đã tìm thấy một con đường có độ dài 29, dài hơn con đường tối ưu.\n",
        "    + Độ phức tạp thời gian: O(b^m) trong trường hợp xấu nhất (trong đó b là hệ số phân nhánh, m là độ sâu tối đa). Nó vẫn có thể khám phá nhiều phần lớn của mê cung.\n",
        "    + Độ phức tạp không gian: O(b^m) vì nó lưu trữ biên giới. Trong thực tế, nó sử dụng ít bộ nhớ hơn BFS nhưng vẫn có thể phát triển lớn.\n",
        "- Tìm kiếm A*:\n",
        "    + Tính đầy đủ: A* là đầy đủ miễn là chi phí bước là dương (điều này đúng trong mê cung của chúng ta).\n",
        "    + Tính tối ưu: A* là tối ưu nếu hàm đánh giá là chấp nhận được (không bao giờ ước lượng quá cao chi phí thực). Khoảng cách Manhattan là chấp nhận được trong mê cung lưới, vì vậy con đường tìm được được đảm bảo là tối ưu. Từ đầu ra, A* đã tìm thấy con đường ngắn nhất có độ dài 19.\n",
        "    + Độ phức tạp thời gian: O(b^d), trong đó d là độ sâu của giải pháp tối ưu. Trong trường hợp xấu nhất, nó có thể mở rộng nhiều nút nhưng hiệu quả hơn nhiều so với GBFS.\n",
        "- So sánh:\n",
        "    + GBFS đã đạt được ít nút hơn (44) nhưng tạo ra một lộ trình không tối ưu (29 bước).\n",
        "    + A* đã đạt được nhiều nút hơn (59) nhưng tạo ra lộ trình tối ưu (19 bước).\n",
        "    + Do đó, A* đánh đổi nhiều bộ nhớ và thời gian hơn để đảm bảo tính tối ưu, trong khi GBFS nhanh hơn và nhẹ hơn nhưng có thể trả về những lộ trình dài hơn."
      ]
    },
    {
      "cell_type": "markdown",
      "metadata": {
        "id": "PonltZCxCuuE"
      },
      "source": [
        "## Nhiệm vụ 4: So sánh và thảo luận [20 Điểm]\n",
        "\n",
        "Chạy các thí nghiệm để so sánh các thuật toán đã được triển khai.\n",
        "\n",
        "Cách giải quyết các vấn đề:\n",
        "\n",
        "* Việc triển khai của bạn trả về kết quả không mong đợi: Hãy cố gắng gỡ lỗi và sửa mã. Việc trực quan hóa mê cung, đường đi hiện tại và biên giới sau mỗi bước là rất hữu ích. Nếu mã vẫn không hoạt động, hãy đánh dấu kết quả bằng một dấu hoa thị (*) và mô tả vấn đề dưới bảng.\n",
        "\n",
        "* Việc triển khai của bạn không thể giải quyết một mê cung cụ thể một cách nhất quán và kết thúc trong một vòng lặp vô hạn:  \n",
        "    Gỡ lỗi (có thể vấn đề là ở biên giới và kiểm tra chu trình cho DFS). Nếu đây là một thiếu sót của thuật toán/triển khai, thì hãy ghi \"N/A*\" trong bảng kết quả và mô tả lý do tại sao điều này xảy ra."
      ]
    },
    {
      "cell_type": "code",
      "execution_count": null,
      "metadata": {
        "id": "xUARbw-MCuuG"
      },
      "outputs": [],
      "source": [
        "# Add code"
      ]
    },
    {
      "cell_type": "markdown",
      "metadata": {
        "id": "96N6h8CWCuuH"
      },
      "source": [
        "Hoàn thành bảng sau cho mỗi mê cung.\n",
        "\n",
        "__Small maze__\n",
        "\n",
        "| algorithm | path cost | # of nodes expanded | max tree depth | max # of nodes in memory | max frontier size |\n",
        "|-----------|-----------|----------------|----------------|---------------|-------------------|\n",
        "| BFS       |           |                |                |               |                   |\n",
        "| DFS       |           |                |                |               |                   |\n",
        "| GBS       |           |                |                |               |                   |\n",
        "| A*        |           |                |                |               |                   |\n",
        "\n",
        "__Medium Maze__\n",
        "\n",
        "..."
      ]
    },
    {
      "cell_type": "markdown",
      "metadata": {
        "id": "feCDty_PCuuI"
      },
      "source": [
        "Trình bày kết quả dưới dạng biểu đồ (xem [Python Code Examples/charts and tables](../HOWTOs/charts_and_tables.ipynb))."
      ]
    },
    {
      "cell_type": "code",
      "execution_count": null,
      "metadata": {
        "id": "mrtiaxbWCuuJ"
      },
      "outputs": [],
      "source": [
        "# Add charts"
      ]
    },
    {
      "cell_type": "markdown",
      "metadata": {
        "id": "wG2-B5noCuuL"
      },
      "source": [
        "Thảo luận về những bài học quan trọng nhất mà bạn đã học được từ việc thực hiện các chiến lược tìm kiếm khác nhau."
      ]
    },
    {
      "cell_type": "code",
      "execution_count": null,
      "metadata": {
        "id": "csgvd3UsCuuM"
      },
      "outputs": [],
      "source": [
        "# Add discussion"
      ]
    },
    {
      "cell_type": "markdown",
      "metadata": {
        "id": "THF_du71Cuus"
      },
      "source": [
        "## Nhiệm vụ nâng cao: IDS và nhiều mục tiêu\n",
        "\n",
        "* __Sinh viên tốt nghiệp__ cần hoàn thành nhiệm vụ này [10 điểm]\n",
        "* __Sinh viên đại học__ có thể thử nghiệm nhiệm vụ này như một nhiệm vụ thưởng [tối đa +5 điểm thưởng].\n",
        "\n",
        "### IDS\n",
        "Triển khai IDS (tìm kiếm sâu lặp lại) bằng cách sử dụng triển khai DFS của bạn. Kiểm tra IDS trên các mê cung ở trên. Bạn có thể gặp một số vấn đề với các mê cung có không gian mở. Nếu bạn không thể giải quyết các vấn đề, hãy báo cáo và thảo luận về nguyên nhân gây ra các vấn đề đó."
      ]
    },
    {
      "cell_type": "code",
      "execution_count": null,
      "metadata": {
        "id": "0Zd75FjuCuus"
      },
      "outputs": [],
      "source": [
        "# Your code/answer goes here"
      ]
    },
    {
      "cell_type": "markdown",
      "metadata": {
        "id": "AvHqaoRECuuu"
      },
      "source": [
        "### Nhiều Mục Tiêu\n",
        "Tạo một vài mê cung với nhiều mục tiêu bằng cách thêm một hoặc hai mục tiêu nữa vào mê cung kích thước trung bình. Đại lý hoàn thành khi tìm thấy một trong các mục tiêu.\n",
        "Giải mê cung với các triển khai của bạn cho DFS, BFS và IDS. Thực hiện các thí nghiệm để cho thấy các triển khai nào tìm ra giải pháp tối ưu và các triển khai nào không. Thảo luận về lý do tại sao lại như vậy."
      ]
    },
    {
      "cell_type": "code",
      "execution_count": null,
      "metadata": {
        "id": "qG8NHh5KCuuw"
      },
      "outputs": [],
      "source": [
        "# Your code/answer goes here"
      ]
    },
    {
      "cell_type": "markdown",
      "metadata": {
        "id": "yNepKGjTCuuy"
      },
      "source": [
        "## Những Vấn Đề Nâng Cao Hơn Để Suy Nghĩ (không tính điểm)\n",
        "\n",
        "Nếu bài tập quá dễ đối với bạn thì bạn có thể suy nghĩ về những vấn đề sau. Những vấn đề này khó khăn và không thuộc về bài tập này.\n",
        "\n",
        "### Giao điểm như các trạng thái\n",
        "Thay vì định nghĩa mỗi ô vuông là một trạng thái, chỉ sử dụng các giao điểm làm trạng thái. Bây giờ yêu cầu lưu trữ được giảm, nhưng độ dài đường đi giữa hai giao điểm có thể khác nhau. Nếu chúng ta sử dụng tổng độ dài đường đi được đo bằng số ô vuông làm chi phí đường đi, làm thế nào chúng ta có thể đảm bảo rằng BFS và tìm kiếm sâu lặp lại là tối ưu? Thay đổi mã để làm điều đó."
      ]
    },
    {
      "cell_type": "code",
      "execution_count": null,
      "metadata": {
        "id": "8pGYlN4_Cuuz"
      },
      "outputs": [],
      "source": [
        "# Your code/answer goes here"
      ]
    },
    {
      "cell_type": "markdown",
      "metadata": {
        "id": "QE0JzZ-sCuu1"
      },
      "source": [
        "### Tìm kiếm A* có trọng số\n",
        "Chỉnh sửa tìm kiếm A* của bạn để thêm trọng số (xem sách giáo khoa) và khám phá cách mà các trọng số khác nhau ảnh hưởng đến kết quả."
      ]
    },
    {
      "cell_type": "code",
      "execution_count": null,
      "metadata": {
        "id": "RdBlevaUCuu3"
      },
      "outputs": [],
      "source": [
        "# Your code/answer goes here"
      ]
    },
    {
      "cell_type": "markdown",
      "metadata": {
        "id": "ZUd-7ITECuu5"
      },
      "source": [
        "### Mê Cung Không Xác Định\n",
        "Điều gì xảy ra nếu tác nhân không biết trước bố cục của mê cung? Điều này có nghĩa là tác nhân phải đối mặt với một môi trường không xác định, nơi mà nó không biết hàm chuyển đổi. Môi trường sẽ trông như thế nào (mô tả PEAS)? Bạn sẽ triển khai một tác nhân hợp lý để giải quyết mê cung như thế nào? Điều gì sẽ xảy ra nếu tác nhân vẫn có một thiết bị GPS để cho biết khoảng cách đến mục tiêu?"
      ]
    },
    {
      "cell_type": "code",
      "execution_count": null,
      "metadata": {
        "id": "fWnSGwHNCuu5"
      },
      "outputs": [],
      "source": [
        "# Your code/answer goes here"
      ]
    }
  ],
  "metadata": {
    "colab": {
      "provenance": []
    },
    "kernelspec": {
      "display_name": "base",
      "language": "python",
      "name": "python3"
    },
    "language_info": {
      "codemirror_mode": {
        "name": "ipython",
        "version": 3
      },
      "file_extension": ".py",
      "mimetype": "text/x-python",
      "name": "python",
      "nbconvert_exporter": "python",
      "pygments_lexer": "ipython3",
      "version": "3.12.4"
    }
  },
  "nbformat": 4,
  "nbformat_minor": 0
}
